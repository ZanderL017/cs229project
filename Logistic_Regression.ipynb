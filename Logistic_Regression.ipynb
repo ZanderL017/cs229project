{
 "cells": [
  {
   "cell_type": "code",
   "execution_count": 1,
   "id": "9591c205",
   "metadata": {},
   "outputs": [],
   "source": [
    "import pandas as pd\n",
    "import torch\n",
    "import numpy as np\n",
    "import matplotlib.pyplot as plt\n",
    "import seaborn as sns\n",
    "from data_utils import load_data, split_dataset\n",
    "from processing import extract_by_vars, extract_by_means\n",
    "\n",
    "np.random.seed(17000)\n",
    "sns.set_style(\"whitegrid\")"
   ]
  },
  {
   "cell_type": "code",
   "execution_count": 2,
   "id": "9025f2af",
   "metadata": {
    "scrolled": false
   },
   "outputs": [],
   "source": [
    "data = load_data(mode=\"coad\", log=True)"
   ]
  },
  {
   "cell_type": "code",
   "execution_count": 3,
   "id": "ac2df8cc",
   "metadata": {},
   "outputs": [],
   "source": [
    "df = data[\"coad\"]"
   ]
  },
  {
   "cell_type": "code",
   "execution_count": 4,
   "id": "bb17e70a",
   "metadata": {},
   "outputs": [],
   "source": [
    "data_splits = split_dataset(df)"
   ]
  },
  {
   "cell_type": "code",
   "execution_count": 5,
   "id": "1839d37d",
   "metadata": {},
   "outputs": [],
   "source": [
    "target = \"COVAR_N_status\""
   ]
  },
  {
   "cell_type": "code",
   "execution_count": 6,
   "id": "aca0b3fd",
   "metadata": {},
   "outputs": [],
   "source": [
    "from sklearn import model_selection\n",
    "from sklearn import linear_model\n",
    "from sklearn import metrics\n",
    "from sklearn import ensemble"
   ]
  },
  {
   "cell_type": "code",
   "execution_count": 17,
   "id": "b3d189bd",
   "metadata": {},
   "outputs": [],
   "source": [
    "def run(model_type, data_splits, features, target):\n",
    "    X_train, X_test, y_train, y_test = data_splits\n",
    "    if features == \"all\":\n",
    "        features = X_train.columns\n",
    "    model = model_type\n",
    "    model.fit(X_train[features], y_train[target])\n",
    "    preds = model.predict(X_test[features])\n",
    "    results = {}\n",
    "    results[\"accuracy\"] = metrics.accuracy_score(y_test[target], preds)\n",
    "    return model, results"
   ]
  },
  {
   "cell_type": "code",
   "execution_count": 18,
   "id": "1fd979c7",
   "metadata": {},
   "outputs": [
    {
     "data": {
      "text/plain": [
       "0.7070063694267515"
      ]
     },
     "execution_count": 18,
     "metadata": {},
     "output_type": "execute_result"
    }
   ],
   "source": [
    "# All features\n",
    "results = run(\n",
    "    linear_model.LogisticRegression(max_iter=1000),\n",
    "    data_splits,\n",
    "    \"all\",\n",
    "    target\n",
    ")\n",
    "results[1][\"accuracy\"]"
   ]
  },
  {
   "cell_type": "code",
   "execution_count": 19,
   "id": "b5f8da29",
   "metadata": {},
   "outputs": [
    {
     "data": {
      "text/plain": [
       "0.6878980891719745"
      ]
     },
     "execution_count": 19,
     "metadata": {},
     "output_type": "execute_result"
    }
   ],
   "source": [
    "# All features on Random Forest\n",
    "results = run(\n",
    "    ensemble.RandomForestClassifier(),\n",
    "    data_splits,\n",
    "    \"all\",\n",
    "    target\n",
    ")\n",
    "results[1][\"accuracy\"]"
   ]
  },
  {
   "cell_type": "code",
   "execution_count": 20,
   "id": "ed2d3d5f",
   "metadata": {},
   "outputs": [
    {
     "ename": "NameError",
     "evalue": "name 'X_train' is not defined",
     "output_type": "error",
     "traceback": [
      "\u001b[0;31m---------------------------------------------------------------------------\u001b[0m",
      "\u001b[0;31mNameError\u001b[0m                                 Traceback (most recent call last)",
      "Input \u001b[0;32mIn [20]\u001b[0m, in \u001b[0;36m<cell line: 2>\u001b[0;34m()\u001b[0m\n\u001b[1;32m      1\u001b[0m model \u001b[38;5;241m=\u001b[39m linear_model\u001b[38;5;241m.\u001b[39mLogisticRegression(max_iter\u001b[38;5;241m=\u001b[39m\u001b[38;5;241m1000\u001b[39m)\n\u001b[0;32m----> 2\u001b[0m model\u001b[38;5;241m.\u001b[39mfit(\u001b[43mX_train\u001b[49m, y_train[target])\n\u001b[1;32m      3\u001b[0m preds \u001b[38;5;241m=\u001b[39m model\u001b[38;5;241m.\u001b[39mpredict(X_test)\n\u001b[1;32m      4\u001b[0m \u001b[38;5;28mprint\u001b[39m(metrics\u001b[38;5;241m.\u001b[39mclassification_report(y_test[target], preds))\n",
      "\u001b[0;31mNameError\u001b[0m: name 'X_train' is not defined"
     ]
    }
   ],
   "source": [
    "model = linear_model.LogisticRegression(max_iter=1000)\n",
    "model.fit(X_train, y_train[target])\n",
    "preds = model.predict(X_test)\n",
    "print(metrics.classification_report(y_test[target], preds))\n",
    "initial_accuracy = metrics.accuracy_score(y_test[target], preds)"
   ]
  },
  {
   "cell_type": "code",
   "execution_count": 8,
   "id": "eb332701",
   "metadata": {
    "scrolled": true
   },
   "outputs": [
    {
     "data": {
      "text/plain": [
       "GNGT1       0.048389\n",
       "SLC5A8      0.048084\n",
       "TBC1D3C     0.047320\n",
       "IL17C       0.043503\n",
       "S100A7      0.042278\n",
       "PGAM2       0.041718\n",
       "CERS3       0.041111\n",
       "PPIAL4A     0.040480\n",
       "NPIPA2      0.039981\n",
       "RLBP1       0.039468\n",
       "C5orf46     0.038920\n",
       "FEZF1       0.038606\n",
       "LRRC14B     0.037820\n",
       "GNAT2       0.037732\n",
       "C12orf71    0.037593\n",
       "SLC28A1     0.037448\n",
       "CYP2A6      0.036563\n",
       "C11orf87    0.036408\n",
       "URAD        0.035810\n",
       "HUS1B       0.035775\n",
       "Name: 0, dtype: float64"
      ]
     },
     "execution_count": 8,
     "metadata": {},
     "output_type": "execute_result"
    }
   ],
   "source": [
    "coef_all = pd.DataFrame(model.coef_, columns=model.feature_names_in_).loc[0]\n",
    "abs(coef_all).sort_values(ascending=False)[:20]"
   ]
  },
  {
   "cell_type": "code",
   "execution_count": 9,
   "id": "0e6a41db",
   "metadata": {
    "scrolled": true
   },
   "outputs": [],
   "source": [
    "k = 300\n",
    "features = extract_by_vars(X_train, y_train, target, 1, k)"
   ]
  },
  {
   "cell_type": "code",
   "execution_count": 10,
   "id": "fb3014e5",
   "metadata": {},
   "outputs": [],
   "source": [
    "model = linear_model.LogisticRegression(max_iter=500)\n",
    "model.fit(X_train[features], y_train[target])\n",
    "preds = model.predict(X_test[features])\n",
    "accuracy = metrics.accuracy_score(y_test[target], preds)"
   ]
  },
  {
   "cell_type": "code",
   "execution_count": 11,
   "id": "a8399517",
   "metadata": {},
   "outputs": [
    {
     "data": {
      "text/plain": [
       "HAPLN2      0.212094\n",
       "CPB1        0.209731\n",
       "SLC5A8      0.206071\n",
       "IL17C       0.202198\n",
       "C5orf46     0.197530\n",
       "GNGT1       0.192847\n",
       "TAS2R20     0.188123\n",
       "F8A3        0.187093\n",
       "HUS1B       0.180883\n",
       "CLCNKB      0.175973\n",
       "OR2W3       0.168699\n",
       "EGF         0.168063\n",
       "S100A7      0.163320\n",
       "C17orf98    0.161904\n",
       "GAGE1       0.152777\n",
       "HESX1       0.150130\n",
       "PGLYRP4     0.148092\n",
       "KLHL34      0.147945\n",
       "ZNF280A     0.147768\n",
       "CELA3B      0.145288\n",
       "Name: 0, dtype: float64"
      ]
     },
     "execution_count": 11,
     "metadata": {},
     "output_type": "execute_result"
    }
   ],
   "source": [
    "coef_1000 = pd.DataFrame(model.coef_, columns=model.feature_names_in_).loc[0]\n",
    "abs(coef_1000).sort_values(ascending=False)[:20]"
   ]
  },
  {
   "cell_type": "code",
   "execution_count": 12,
   "id": "b5935872",
   "metadata": {},
   "outputs": [
    {
     "data": {
      "text/plain": [
       "Index(['HAPLN2', 'CPB1', 'SLC5A8', 'IL17C', 'C5orf46', 'GNGT1', 'TAS2R20',\n",
       "       'F8A3', 'HUS1B', 'CLCNKB',\n",
       "       ...\n",
       "       'RBP2', 'FSTL4', 'C1QTNF9', 'PROK2', 'CKM', 'LRRC26', 'B3GNT6', 'TTC6',\n",
       "       'CELF3', 'KLK8'],\n",
       "      dtype='object', length=300)"
      ]
     },
     "execution_count": 12,
     "metadata": {},
     "output_type": "execute_result"
    }
   ],
   "source": [
    "abs(coef_1000).sort_values(ascending=False).index"
   ]
  },
  {
   "cell_type": "code",
   "execution_count": 13,
   "id": "9559d4f0",
   "metadata": {},
   "outputs": [
    {
     "data": {
      "text/plain": [
       "Index(['GNGT1', 'SLC5A8', 'TBC1D3C', 'IL17C', 'S100A7', 'PGAM2', 'CERS3',\n",
       "       'PPIAL4A', 'NPIPA2', 'RLBP1',\n",
       "       ...\n",
       "       'TCHH', 'ZNF705E', 'TMSB15A', 'CELF3', 'RNF183', 'CCL7', 'CD163L1',\n",
       "       'MYOZ3', 'GZMB', 'ARC'],\n",
       "      dtype='object', length=1000)"
      ]
     },
     "execution_count": 13,
     "metadata": {},
     "output_type": "execute_result"
    }
   ],
   "source": [
    "abs(coef_all).sort_values(ascending=False)[:1000].index"
   ]
  },
  {
   "cell_type": "code",
   "execution_count": 14,
   "id": "f4cec830",
   "metadata": {},
   "outputs": [],
   "source": [
    "common_features = set(abs(coef_1000).sort_values(ascending=False).index) & \\\n",
    "set(abs(coef_all).sort_values(ascending=False)[:1000].index)"
   ]
  },
  {
   "cell_type": "code",
   "execution_count": 15,
   "id": "62966aed",
   "metadata": {},
   "outputs": [
    {
     "data": {
      "text/plain": [
       "192"
      ]
     },
     "execution_count": 15,
     "metadata": {},
     "output_type": "execute_result"
    }
   ],
   "source": [
    "len(common_features)"
   ]
  },
  {
   "cell_type": "code",
   "execution_count": 16,
   "id": "3485c988",
   "metadata": {},
   "outputs": [],
   "source": [
    "k_values = range(200, 1500, 25)\n",
    "var_accuracies = []\n",
    "for k in k_values:\n",
    "    features = extract_by_vars(X_train, y_train, target, 1, k)\n",
    "    model = linear_model.LogisticRegression(max_iter=1000)\n",
    "    model.fit(X_train[features], y_train[target])\n",
    "    preds = model.predict(X_test[features])\n",
    "    accuracy = metrics.accuracy_score(y_test[target], preds)\n",
    "    var_accuracies.append(accuracy)"
   ]
  },
  {
   "cell_type": "code",
   "execution_count": 17,
   "id": "94c018d7",
   "metadata": {},
   "outputs": [],
   "source": [
    "mean_accuracies = []\n",
    "for k in k_values:\n",
    "    features = extract_by_means(X_train, y_train, target, 1, k)\n",
    "    model = linear_model.LogisticRegression(max_iter=1000)\n",
    "    model.fit(X_train[features], y_train[target])\n",
    "    preds = model.predict(X_test[features])\n",
    "    accuracy = metrics.accuracy_score(y_test[target], preds)\n",
    "    mean_accuracies.append(accuracy)"
   ]
  },
  {
   "cell_type": "code",
   "execution_count": 18,
   "id": "80ed9b96",
   "metadata": {},
   "outputs": [],
   "source": [
    "og_accuracies = []\n",
    "for k in k_values:\n",
    "    features = abs(coef_all).sort_values(ascending=False)[:k].index.to_numpy()\n",
    "    model = linear_model.LogisticRegression(max_iter=1000)\n",
    "    model.fit(X_train[features], y_train[target])\n",
    "    preds = model.predict(X_test[features])\n",
    "    accuracy = metrics.accuracy_score(y_test[target], preds)\n",
    "    og_accuracies.append(accuracy)"
   ]
  },
  {
   "cell_type": "code",
   "execution_count": 19,
   "id": "a6d89c4a",
   "metadata": {
    "scrolled": true
   },
   "outputs": [
    {
     "data": {
      "text/plain": [
       "<matplotlib.legend.Legend at 0x7fe676b2bca0>"
      ]
     },
     "execution_count": 19,
     "metadata": {},
     "output_type": "execute_result"
    },
    {
     "data": {
      "image/png": "[encoded data removed]",
      "text/plain": [
       "<Figure size 432x288 with 1 Axes>"
      ]
     },
     "metadata": {},
     "output_type": "display_data"
    }
   ],
   "source": [
    "plt.plot(k_values, var_accuracies, label=\"var\")\n",
    "plt.plot(k_values, mean_accuracies, label=\"mean\")\n",
    "plt.plot(k_values, og_accuracies, label=\"og\")\n",
    "plt.axhline(initial_accuracy, linestyle='--')\n",
    "plt.legend()"
   ]
  },
  {
   "cell_type": "code",
   "execution_count": null,
   "id": "b4ec29c4",
   "metadata": {},
   "outputs": [],
   "source": []
  }
 ],
 "metadata": {
  "kernelspec": {
   "display_name": "cs229project",
   "language": "python",
   "name": "cs229project"
  },
  "language_info": {
   "codemirror_mode": {
    "name": "ipython",
    "version": 3
   },
   "file_extension": ".py",
   "mimetype": "text/x-python",
   "name": "python",
   "nbconvert_exporter": "python",
   "pygments_lexer": "ipython3",
   "version": "3.9.12"
  }
 },
 "nbformat": 4,
 "nbformat_minor": 5
}
