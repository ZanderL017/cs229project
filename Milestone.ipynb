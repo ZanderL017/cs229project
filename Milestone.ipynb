{
 "cells": [
  {
   "cell_type": "code",
   "execution_count": 1,
   "id": "a0a628ec",
   "metadata": {},
   "outputs": [],
   "source": [
    "import pandas as pd\n",
    "import torch\n",
    "import numpy as np"
   ]
  },
  {
   "cell_type": "code",
   "execution_count": 2,
   "id": "2a0a5ba1",
   "metadata": {},
   "outputs": [],
   "source": [
    "import sklearn"
   ]
  },
  {
   "cell_type": "code",
   "execution_count": 3,
   "id": "b7455ee8",
   "metadata": {},
   "outputs": [],
   "source": [
    "df1 = pd.read_csv(\"data/GSE8167CopyConvertedProtein.csv\")"
   ]
  },
  {
   "cell_type": "code",
   "execution_count": 4,
   "id": "7ecb829a",
   "metadata": {},
   "outputs": [],
   "source": [
    "df2 = pd.read_csv(\"data/READCopyProtein50.csv\")"
   ]
  },
  {
   "cell_type": "code",
   "execution_count": 5,
   "id": "0c918e03",
   "metadata": {},
   "outputs": [],
   "source": [
    "df3 = pd.read_csv(\"data/COADCopyProtein50.csv\")"
   ]
  },
  {
   "cell_type": "code",
   "execution_count": 6,
   "id": "9468ce4c",
   "metadata": {},
   "outputs": [],
   "source": [
    "df4 = pd.read_csv(\"data/GSE62254CopyConvertedProtein.csv\")"
   ]
  },
  {
   "cell_type": "code",
   "execution_count": 7,
   "id": "74d8d211",
   "metadata": {},
   "outputs": [
    {
     "data": {
      "text/plain": [
       "(32, 14813)"
      ]
     },
     "execution_count": 7,
     "metadata": {},
     "output_type": "execute_result"
    }
   ],
   "source": [
    "df1.shape"
   ]
  },
  {
   "cell_type": "code",
   "execution_count": 8,
   "id": "4bfe6ad1",
   "metadata": {},
   "outputs": [
    {
     "data": {
      "text/plain": [
       "(159, 16300)"
      ]
     },
     "execution_count": 8,
     "metadata": {},
     "output_type": "execute_result"
    }
   ],
   "source": [
    "df2.shape"
   ]
  },
  {
   "cell_type": "code",
   "execution_count": 9,
   "id": "10d2c0df",
   "metadata": {},
   "outputs": [
    {
     "data": {
      "text/plain": [
       "(474, 16295)"
      ]
     },
     "execution_count": 9,
     "metadata": {},
     "output_type": "execute_result"
    }
   ],
   "source": [
    "df3.shape"
   ]
  },
  {
   "cell_type": "code",
   "execution_count": 10,
   "id": "5441b897",
   "metadata": {},
   "outputs": [
    {
     "data": {
      "text/plain": [
       "(300, 15044)"
      ]
     },
     "execution_count": 10,
     "metadata": {},
     "output_type": "execute_result"
    }
   ],
   "source": [
    "df4.shape"
   ]
  },
  {
   "cell_type": "code",
   "execution_count": 11,
   "id": "6d9f5abd",
   "metadata": {},
   "outputs": [],
   "source": [
    "df = pd.concat((df2, df3, df4))"
   ]
  },
  {
   "cell_type": "code",
   "execution_count": 12,
   "id": "b21e17bb",
   "metadata": {},
   "outputs": [],
   "source": [
    "df.dropna(axis=1, inplace=True)\n",
    "df.reset_index(drop=True, inplace=True)\n",
    "df.drop(\"Unnamed: 0\", axis=1, inplace=True)"
   ]
  },
  {
   "cell_type": "code",
   "execution_count": 13,
   "id": "5ebf5316",
   "metadata": {},
   "outputs": [
    {
     "data": {
      "text/plain": [
       "count    933.000000\n",
       "mean       4.586478\n",
       "std        2.899580\n",
       "min        0.140287\n",
       "25%        2.307741\n",
       "50%        4.469627\n",
       "75%        6.456757\n",
       "max       31.041472\n",
       "Name: A1BG, dtype: float64"
      ]
     },
     "execution_count": 13,
     "metadata": {},
     "output_type": "execute_result"
    }
   ],
   "source": [
    "df[\"A1BG\"].describe()"
   ]
  },
  {
   "cell_type": "code",
   "execution_count": 14,
   "id": "19b8b0cb",
   "metadata": {},
   "outputs": [
    {
     "data": {
      "text/plain": [
       "count    933.000000\n",
       "mean      54.322400\n",
       "std       57.470899\n",
       "min        3.071780\n",
       "25%       13.073987\n",
       "50%       38.500170\n",
       "75%       72.647514\n",
       "max      597.710262\n",
       "Name: A2M, dtype: float64"
      ]
     },
     "execution_count": 14,
     "metadata": {},
     "output_type": "execute_result"
    }
   ],
   "source": [
    "df[\"A2M\"].describe()"
   ]
  },
  {
   "cell_type": "code",
   "execution_count": 15,
   "id": "a377a274",
   "metadata": {
    "scrolled": true
   },
   "outputs": [
    {
     "data": {
      "text/plain": [
       "0.13933547695605572"
      ]
     },
     "execution_count": 15,
     "metadata": {},
     "output_type": "execute_result"
    }
   ],
   "source": [
    "df[\"COVAR_M\"].mean()"
   ]
  },
  {
   "cell_type": "code",
   "execution_count": 16,
   "id": "e34259df",
   "metadata": {},
   "outputs": [
    {
     "data": {
      "text/plain": [
       "0.5562700964630225"
      ]
     },
     "execution_count": 16,
     "metadata": {},
     "output_type": "execute_result"
    }
   ],
   "source": [
    "df[\"COVAR_N_status\"].mean()"
   ]
  },
  {
   "cell_type": "code",
   "execution_count": 17,
   "id": "47b1ee61",
   "metadata": {},
   "outputs": [
    {
     "data": {
      "text/html": [
       "<div>\n",
       "<style scoped>\n",
       "    .dataframe tbody tr th:only-of-type {\n",
       "        vertical-align: middle;\n",
       "    }\n",
       "\n",
       "    .dataframe tbody tr th {\n",
       "        vertical-align: top;\n",
       "    }\n",
       "\n",
       "    .dataframe thead th {\n",
       "        text-align: right;\n",
       "    }\n",
       "</style>\n",
       "<table border=\"1\" class=\"dataframe\">\n",
       "  <thead>\n",
       "    <tr style=\"text-align: right;\">\n",
       "      <th></th>\n",
       "      <th>A1BG</th>\n",
       "      <th>A1CF</th>\n",
       "      <th>A2M</th>\n",
       "      <th>A2ML1</th>\n",
       "      <th>A4GALT</th>\n",
       "      <th>AAAS</th>\n",
       "      <th>AACS</th>\n",
       "      <th>AADAC</th>\n",
       "      <th>AADAT</th>\n",
       "      <th>AAGAB</th>\n",
       "      <th>...</th>\n",
       "      <th>ZXDA</th>\n",
       "      <th>ZXDB</th>\n",
       "      <th>ZXDC</th>\n",
       "      <th>ZYG11A</th>\n",
       "      <th>ZYG11B</th>\n",
       "      <th>ZYX</th>\n",
       "      <th>ZZEF1</th>\n",
       "      <th>ZZZ3</th>\n",
       "      <th>COVAR_M</th>\n",
       "      <th>COVAR_N_status</th>\n",
       "    </tr>\n",
       "  </thead>\n",
       "  <tbody>\n",
       "    <tr>\n",
       "      <th>928</th>\n",
       "      <td>5.942137</td>\n",
       "      <td>5.913381</td>\n",
       "      <td>11.526161</td>\n",
       "      <td>1.059513</td>\n",
       "      <td>6.042246</td>\n",
       "      <td>4.317287</td>\n",
       "      <td>9.213195</td>\n",
       "      <td>6.098362</td>\n",
       "      <td>1.504458</td>\n",
       "      <td>9.437831</td>\n",
       "      <td>...</td>\n",
       "      <td>7.055993</td>\n",
       "      <td>5.895205</td>\n",
       "      <td>7.169982</td>\n",
       "      <td>2.402127</td>\n",
       "      <td>9.168747</td>\n",
       "      <td>8.420174</td>\n",
       "      <td>7.256559</td>\n",
       "      <td>10.036328</td>\n",
       "      <td>0</td>\n",
       "      <td>1</td>\n",
       "    </tr>\n",
       "    <tr>\n",
       "      <th>929</th>\n",
       "      <td>5.844904</td>\n",
       "      <td>8.183669</td>\n",
       "      <td>11.788911</td>\n",
       "      <td>3.674765</td>\n",
       "      <td>4.897835</td>\n",
       "      <td>3.196120</td>\n",
       "      <td>9.737289</td>\n",
       "      <td>11.572527</td>\n",
       "      <td>2.695465</td>\n",
       "      <td>9.539697</td>\n",
       "      <td>...</td>\n",
       "      <td>6.335578</td>\n",
       "      <td>5.833117</td>\n",
       "      <td>6.999113</td>\n",
       "      <td>1.889060</td>\n",
       "      <td>9.691995</td>\n",
       "      <td>8.153651</td>\n",
       "      <td>8.059813</td>\n",
       "      <td>10.423995</td>\n",
       "      <td>0</td>\n",
       "      <td>1</td>\n",
       "    </tr>\n",
       "    <tr>\n",
       "      <th>930</th>\n",
       "      <td>6.360383</td>\n",
       "      <td>8.787462</td>\n",
       "      <td>12.430695</td>\n",
       "      <td>4.230503</td>\n",
       "      <td>5.095716</td>\n",
       "      <td>7.102401</td>\n",
       "      <td>10.544474</td>\n",
       "      <td>12.999330</td>\n",
       "      <td>6.826320</td>\n",
       "      <td>9.221026</td>\n",
       "      <td>...</td>\n",
       "      <td>8.361142</td>\n",
       "      <td>7.033119</td>\n",
       "      <td>7.241024</td>\n",
       "      <td>1.885810</td>\n",
       "      <td>9.899455</td>\n",
       "      <td>7.812305</td>\n",
       "      <td>7.561632</td>\n",
       "      <td>9.876441</td>\n",
       "      <td>0</td>\n",
       "      <td>1</td>\n",
       "    </tr>\n",
       "    <tr>\n",
       "      <th>931</th>\n",
       "      <td>6.927334</td>\n",
       "      <td>8.870796</td>\n",
       "      <td>12.007038</td>\n",
       "      <td>4.859395</td>\n",
       "      <td>5.402764</td>\n",
       "      <td>5.359976</td>\n",
       "      <td>10.522492</td>\n",
       "      <td>11.925963</td>\n",
       "      <td>4.742456</td>\n",
       "      <td>9.475964</td>\n",
       "      <td>...</td>\n",
       "      <td>6.795128</td>\n",
       "      <td>5.359431</td>\n",
       "      <td>7.232154</td>\n",
       "      <td>4.620380</td>\n",
       "      <td>8.559547</td>\n",
       "      <td>8.124043</td>\n",
       "      <td>8.455832</td>\n",
       "      <td>9.872788</td>\n",
       "      <td>0</td>\n",
       "      <td>1</td>\n",
       "    </tr>\n",
       "    <tr>\n",
       "      <th>932</th>\n",
       "      <td>6.138049</td>\n",
       "      <td>5.823399</td>\n",
       "      <td>13.498144</td>\n",
       "      <td>4.655757</td>\n",
       "      <td>6.422433</td>\n",
       "      <td>5.188557</td>\n",
       "      <td>10.229970</td>\n",
       "      <td>10.937654</td>\n",
       "      <td>6.161874</td>\n",
       "      <td>9.073476</td>\n",
       "      <td>...</td>\n",
       "      <td>7.435119</td>\n",
       "      <td>6.150105</td>\n",
       "      <td>7.089935</td>\n",
       "      <td>2.172361</td>\n",
       "      <td>9.024952</td>\n",
       "      <td>7.750568</td>\n",
       "      <td>8.408776</td>\n",
       "      <td>9.876825</td>\n",
       "      <td>1</td>\n",
       "      <td>1</td>\n",
       "    </tr>\n",
       "  </tbody>\n",
       "</table>\n",
       "<p>5 rows × 14138 columns</p>\n",
       "</div>"
      ],
      "text/plain": [
       "         A1BG      A1CF        A2M     A2ML1    A4GALT      AAAS       AACS  \\\n",
       "928  5.942137  5.913381  11.526161  1.059513  6.042246  4.317287   9.213195   \n",
       "929  5.844904  8.183669  11.788911  3.674765  4.897835  3.196120   9.737289   \n",
       "930  6.360383  8.787462  12.430695  4.230503  5.095716  7.102401  10.544474   \n",
       "931  6.927334  8.870796  12.007038  4.859395  5.402764  5.359976  10.522492   \n",
       "932  6.138049  5.823399  13.498144  4.655757  6.422433  5.188557  10.229970   \n",
       "\n",
       "         AADAC     AADAT     AAGAB  ...      ZXDA      ZXDB      ZXDC  \\\n",
       "928   6.098362  1.504458  9.437831  ...  7.055993  5.895205  7.169982   \n",
       "929  11.572527  2.695465  9.539697  ...  6.335578  5.833117  6.999113   \n",
       "930  12.999330  6.826320  9.221026  ...  8.361142  7.033119  7.241024   \n",
       "931  11.925963  4.742456  9.475964  ...  6.795128  5.359431  7.232154   \n",
       "932  10.937654  6.161874  9.073476  ...  7.435119  6.150105  7.089935   \n",
       "\n",
       "       ZYG11A    ZYG11B       ZYX     ZZEF1       ZZZ3  COVAR_M  \\\n",
       "928  2.402127  9.168747  8.420174  7.256559  10.036328        0   \n",
       "929  1.889060  9.691995  8.153651  8.059813  10.423995        0   \n",
       "930  1.885810  9.899455  7.812305  7.561632   9.876441        0   \n",
       "931  4.620380  8.559547  8.124043  8.455832   9.872788        0   \n",
       "932  2.172361  9.024952  7.750568  8.408776   9.876825        1   \n",
       "\n",
       "     COVAR_N_status  \n",
       "928               1  \n",
       "929               1  \n",
       "930               1  \n",
       "931               1  \n",
       "932               1  \n",
       "\n",
       "[5 rows x 14138 columns]"
      ]
     },
     "execution_count": 17,
     "metadata": {},
     "output_type": "execute_result"
    }
   ],
   "source": [
    "df.tail()"
   ]
  },
  {
   "cell_type": "code",
   "execution_count": 18,
   "id": "9325e292",
   "metadata": {
    "scrolled": true
   },
   "outputs": [],
   "source": [
    "X = df.drop([\"COVAR_N_status\", \"COVAR_M\"], axis=1)\n",
    "y = df[\"COVAR_M\"]"
   ]
  },
  {
   "cell_type": "code",
   "execution_count": 19,
   "id": "c8724137",
   "metadata": {},
   "outputs": [],
   "source": [
    "from sklearn import model_selection\n",
    "from sklearn import linear_model\n",
    "from sklearn import ensemble\n",
    "from sklearn import neural_network\n",
    "from sklearn import decomposition\n",
    "from sklearn.metrics import classification_report"
   ]
  },
  {
   "cell_type": "code",
   "execution_count": 20,
   "id": "2f5f0f0c",
   "metadata": {},
   "outputs": [],
   "source": [
    "def train_sklearn(model, X, y):\n",
    "    X_train, X_test, y_train, y_test = model_selection.train_test_split(X, y, test_size=0.3, random_state=42)\n",
    "    model.fit(X_train, y_train)\n",
    "    preds = np.round(model.predict(X_test))\n",
    "    accuracy = (y_test == preds).mean()\n",
    "    print(model)\n",
    "    print(classification_report(y_test, preds))"
   ]
  },
  {
   "cell_type": "code",
   "execution_count": 21,
   "id": "460dab5e",
   "metadata": {},
   "outputs": [
    {
     "name": "stdout",
     "output_type": "stream",
     "text": [
      "LogisticRegression()\n",
      "              precision    recall  f1-score   support\n",
      "\n",
      "           0       0.90      0.92      0.91       242\n",
      "           1       0.38      0.32      0.34        38\n",
      "\n",
      "    accuracy                           0.84       280\n",
      "   macro avg       0.64      0.62      0.62       280\n",
      "weighted avg       0.82      0.84      0.83       280\n",
      "\n"
     ]
    },
    {
     "name": "stderr",
     "output_type": "stream",
     "text": [
      "/Users/ZanderL/opt/anaconda3/envs/cs229project/lib/python3.9/site-packages/sklearn/linear_model/_logistic.py:814: ConvergenceWarning: lbfgs failed to converge (status=1):\n",
      "STOP: TOTAL NO. of ITERATIONS REACHED LIMIT.\n",
      "\n",
      "Increase the number of iterations (max_iter) or scale the data as shown in:\n",
      "    https://scikit-learn.org/stable/modules/preprocessing.html\n",
      "Please also refer to the documentation for alternative solver options:\n",
      "    https://scikit-learn.org/stable/modules/linear_model.html#logistic-regression\n",
      "  n_iter_i = _check_optimize_result(\n"
     ]
    }
   ],
   "source": [
    "model = linear_model.LogisticRegression()\n",
    "train_sklearn(model, X, y)"
   ]
  },
  {
   "cell_type": "code",
   "execution_count": 22,
   "id": "3db68665",
   "metadata": {},
   "outputs": [
    {
     "name": "stdout",
     "output_type": "stream",
     "text": [
      "RandomForestClassifier()\n",
      "              precision    recall  f1-score   support\n",
      "\n",
      "           0       0.86      1.00      0.93       242\n",
      "           1       0.00      0.00      0.00        38\n",
      "\n",
      "    accuracy                           0.86       280\n",
      "   macro avg       0.43      0.50      0.46       280\n",
      "weighted avg       0.75      0.86      0.80       280\n",
      "\n"
     ]
    },
    {
     "name": "stderr",
     "output_type": "stream",
     "text": [
      "/Users/ZanderL/opt/anaconda3/envs/cs229project/lib/python3.9/site-packages/sklearn/metrics/_classification.py:1318: UndefinedMetricWarning: Precision and F-score are ill-defined and being set to 0.0 in labels with no predicted samples. Use `zero_division` parameter to control this behavior.\n",
      "  _warn_prf(average, modifier, msg_start, len(result))\n",
      "/Users/ZanderL/opt/anaconda3/envs/cs229project/lib/python3.9/site-packages/sklearn/metrics/_classification.py:1318: UndefinedMetricWarning: Precision and F-score are ill-defined and being set to 0.0 in labels with no predicted samples. Use `zero_division` parameter to control this behavior.\n",
      "  _warn_prf(average, modifier, msg_start, len(result))\n",
      "/Users/ZanderL/opt/anaconda3/envs/cs229project/lib/python3.9/site-packages/sklearn/metrics/_classification.py:1318: UndefinedMetricWarning: Precision and F-score are ill-defined and being set to 0.0 in labels with no predicted samples. Use `zero_division` parameter to control this behavior.\n",
      "  _warn_prf(average, modifier, msg_start, len(result))\n"
     ]
    }
   ],
   "source": [
    "model = ensemble.RandomForestClassifier()\n",
    "train_sklearn(model, X, y)"
   ]
  },
  {
   "cell_type": "code",
   "execution_count": 23,
   "id": "6a5becb1",
   "metadata": {},
   "outputs": [
    {
     "name": "stdout",
     "output_type": "stream",
     "text": [
      "Iteration 1, loss = 9.67780146\n",
      "Iteration 2, loss = 5.07825194\n",
      "Iteration 3, loss = 5.20686947\n",
      "Iteration 4, loss = 24.21806948\n",
      "Iteration 5, loss = 5.07826154\n",
      "Iteration 6, loss = 5.07826376\n",
      "Iteration 7, loss = 5.02319867\n",
      "Iteration 8, loss = 5.94504579\n",
      "Iteration 9, loss = 4.44714873\n",
      "Iteration 10, loss = 4.50570276\n",
      "Iteration 11, loss = 4.26676683\n",
      "Iteration 12, loss = 3.27750480\n",
      "Iteration 13, loss = 2.85960405\n",
      "Iteration 14, loss = 2.68538612\n",
      "Iteration 15, loss = 1.82442603\n",
      "Iteration 16, loss = 1.68781906\n",
      "Iteration 17, loss = 2.06455718\n",
      "Iteration 18, loss = 3.01806751\n",
      "Iteration 19, loss = 2.64670668\n",
      "Iteration 20, loss = 1.82191019\n",
      "Iteration 21, loss = 1.42773036\n",
      "Iteration 22, loss = 1.09595932\n",
      "Iteration 23, loss = 1.15436505\n",
      "Iteration 24, loss = 0.92986918\n",
      "Iteration 25, loss = 1.13629867\n",
      "Iteration 26, loss = 0.76272193\n",
      "Iteration 27, loss = 1.19805895\n",
      "Iteration 28, loss = 1.15448318\n",
      "Iteration 29, loss = 0.97799306\n",
      "Iteration 30, loss = 0.49433749\n",
      "Iteration 31, loss = 0.24941975\n",
      "Iteration 32, loss = 0.24415303\n",
      "Iteration 33, loss = 0.22111485\n",
      "Iteration 34, loss = 0.25072542\n",
      "Iteration 35, loss = 0.18271353\n",
      "Iteration 36, loss = 0.50706918\n",
      "Iteration 37, loss = 0.33893811\n",
      "Iteration 38, loss = 0.11964732\n",
      "Iteration 39, loss = 0.10194879\n",
      "Iteration 40, loss = 0.08395973\n",
      "Iteration 41, loss = 0.06073702\n",
      "Iteration 42, loss = 0.06563980\n",
      "Iteration 43, loss = 0.10576581\n",
      "Iteration 44, loss = 0.07094934\n",
      "Iteration 45, loss = 0.09274167\n",
      "Iteration 46, loss = 0.05229702\n",
      "Iteration 47, loss = 0.11505774\n",
      "Iteration 48, loss = 0.15687789\n",
      "Iteration 49, loss = 0.11310791\n",
      "Iteration 50, loss = 0.10337978\n",
      "Iteration 51, loss = 0.07511839\n",
      "Iteration 52, loss = 0.10034823\n",
      "Iteration 53, loss = 0.22700595\n",
      "Iteration 54, loss = 0.15576612\n",
      "Iteration 55, loss = 0.43759398\n",
      "Iteration 56, loss = 0.20049477\n",
      "Iteration 57, loss = 0.27343605\n",
      "Training loss did not improve more than tol=0.000100 for 10 consecutive epochs. Stopping.\n",
      "MLPClassifier(hidden_layer_sizes=200, verbose=True)\n",
      "              precision    recall  f1-score   support\n",
      "\n",
      "           0       0.88      0.94      0.91       242\n",
      "           1       0.32      0.18      0.23        38\n",
      "\n",
      "    accuracy                           0.84       280\n",
      "   macro avg       0.60      0.56      0.57       280\n",
      "weighted avg       0.80      0.84      0.82       280\n",
      "\n"
     ]
    }
   ],
   "source": [
    "model = neural_network.MLPClassifier(hidden_layer_sizes=(200), verbose=True)\n",
    "train_sklearn(model, X, y)"
   ]
  },
  {
   "cell_type": "code",
   "execution_count": 24,
   "id": "6da79a36",
   "metadata": {
    "scrolled": true
   },
   "outputs": [],
   "source": [
    "#model = ensemble.GradientBoostingClassifier(verbose=1)\n",
    "#train_sklearn(model, X, y)"
   ]
  },
  {
   "cell_type": "code",
   "execution_count": 25,
   "id": "d865f18e",
   "metadata": {},
   "outputs": [],
   "source": [
    "pca = decomposition.PCA(n_components=100)\n",
    "X_pca = pca.fit_transform(X)"
   ]
  },
  {
   "cell_type": "code",
   "execution_count": 26,
   "id": "d0318b9e",
   "metadata": {},
   "outputs": [
    {
     "name": "stdout",
     "output_type": "stream",
     "text": [
      "LogisticRegression()\n",
      "              precision    recall  f1-score   support\n",
      "\n",
      "           0       0.91      0.63      0.74       242\n",
      "           1       0.20      0.61      0.30        38\n",
      "\n",
      "    accuracy                           0.62       280\n",
      "   macro avg       0.56      0.62      0.52       280\n",
      "weighted avg       0.81      0.62      0.68       280\n",
      "\n"
     ]
    },
    {
     "name": "stderr",
     "output_type": "stream",
     "text": [
      "/Users/ZanderL/opt/anaconda3/envs/cs229project/lib/python3.9/site-packages/sklearn/linear_model/_logistic.py:814: ConvergenceWarning: lbfgs failed to converge (status=1):\n",
      "STOP: TOTAL NO. of ITERATIONS REACHED LIMIT.\n",
      "\n",
      "Increase the number of iterations (max_iter) or scale the data as shown in:\n",
      "    https://scikit-learn.org/stable/modules/preprocessing.html\n",
      "Please also refer to the documentation for alternative solver options:\n",
      "    https://scikit-learn.org/stable/modules/linear_model.html#logistic-regression\n",
      "  n_iter_i = _check_optimize_result(\n"
     ]
    }
   ],
   "source": [
    "model = linear_model.LogisticRegression()\n",
    "train_sklearn(model, X_pca, y)"
   ]
  },
  {
   "cell_type": "code",
   "execution_count": 27,
   "id": "2f772cf6",
   "metadata": {},
   "outputs": [
    {
     "name": "stdout",
     "output_type": "stream",
     "text": [
      "RandomForestClassifier()\n",
      "              precision    recall  f1-score   support\n",
      "\n",
      "           0       0.86      1.00      0.93       242\n",
      "           1       0.00      0.00      0.00        38\n",
      "\n",
      "    accuracy                           0.86       280\n",
      "   macro avg       0.43      0.50      0.46       280\n",
      "weighted avg       0.75      0.86      0.80       280\n",
      "\n"
     ]
    },
    {
     "name": "stderr",
     "output_type": "stream",
     "text": [
      "/Users/ZanderL/opt/anaconda3/envs/cs229project/lib/python3.9/site-packages/sklearn/metrics/_classification.py:1318: UndefinedMetricWarning: Precision and F-score are ill-defined and being set to 0.0 in labels with no predicted samples. Use `zero_division` parameter to control this behavior.\n",
      "  _warn_prf(average, modifier, msg_start, len(result))\n",
      "/Users/ZanderL/opt/anaconda3/envs/cs229project/lib/python3.9/site-packages/sklearn/metrics/_classification.py:1318: UndefinedMetricWarning: Precision and F-score are ill-defined and being set to 0.0 in labels with no predicted samples. Use `zero_division` parameter to control this behavior.\n",
      "  _warn_prf(average, modifier, msg_start, len(result))\n",
      "/Users/ZanderL/opt/anaconda3/envs/cs229project/lib/python3.9/site-packages/sklearn/metrics/_classification.py:1318: UndefinedMetricWarning: Precision and F-score are ill-defined and being set to 0.0 in labels with no predicted samples. Use `zero_division` parameter to control this behavior.\n",
      "  _warn_prf(average, modifier, msg_start, len(result))\n"
     ]
    }
   ],
   "source": [
    "model = ensemble.RandomForestClassifier()\n",
    "train_sklearn(model, X_pca, y)"
   ]
  },
  {
   "cell_type": "code",
   "execution_count": 28,
   "id": "824e896f",
   "metadata": {},
   "outputs": [
    {
     "name": "stdout",
     "output_type": "stream",
     "text": [
      "      Iter       Train Loss   Remaining Time \n",
      "         1           0.7724            2.21s\n",
      "         2           0.7474            1.93s\n",
      "         3           0.7269            1.76s\n",
      "         4           0.7065            1.66s\n",
      "         5           0.6820            1.59s\n",
      "         6           0.6674            1.55s\n",
      "         7           0.6508            1.51s\n",
      "         8           0.6318            1.47s\n",
      "         9           0.6182            1.44s\n",
      "        10           0.6047            1.42s\n",
      "        20           0.4972            1.22s\n",
      "        30           0.4150            1.05s\n",
      "        40           0.3597            0.90s\n",
      "        50           0.3106            0.74s\n",
      "        60           0.2691            0.59s\n",
      "        70           0.2337            0.45s\n",
      "        80           0.2031            0.30s\n",
      "        90           0.1790            0.15s\n",
      "       100           0.1592            0.00s\n",
      "GradientBoostingClassifier(verbose=1)\n",
      "              precision    recall  f1-score   support\n",
      "\n",
      "           0       0.87      0.98      0.92       242\n",
      "           1       0.38      0.08      0.13        38\n",
      "\n",
      "    accuracy                           0.86       280\n",
      "   macro avg       0.62      0.53      0.53       280\n",
      "weighted avg       0.80      0.86      0.81       280\n",
      "\n"
     ]
    }
   ],
   "source": [
    "model = ensemble.GradientBoostingClassifier(verbose=1)\n",
    "train_sklearn(model, X_pca, y)"
   ]
  },
  {
   "cell_type": "code",
   "execution_count": 29,
   "id": "178a070a",
   "metadata": {},
   "outputs": [
    {
     "name": "stdout",
     "output_type": "stream",
     "text": [
      "Iteration 1, loss = 7.65203704\n",
      "Iteration 2, loss = 6.88540864\n",
      "Iteration 3, loss = 27.84988830\n",
      "Iteration 4, loss = 5.07826036\n",
      "Iteration 5, loss = 5.07826396\n",
      "Iteration 6, loss = 5.07826648\n",
      "Iteration 7, loss = 5.07826836\n",
      "Iteration 8, loss = 12.28354557\n",
      "Iteration 9, loss = 4.33912593\n",
      "Iteration 10, loss = 5.01357748\n",
      "Iteration 11, loss = 5.67694388\n",
      "Iteration 12, loss = 4.80832133\n",
      "Iteration 13, loss = 3.95367846\n",
      "Iteration 14, loss = 4.31739586\n",
      "Iteration 15, loss = 3.20427231\n",
      "Iteration 16, loss = 3.15214552\n",
      "Iteration 17, loss = 2.11084584\n",
      "Iteration 18, loss = 2.14253338\n",
      "Iteration 19, loss = 2.18884557\n",
      "Iteration 20, loss = 1.70889561\n",
      "Iteration 21, loss = 1.58568988\n",
      "Iteration 22, loss = 1.47730880\n",
      "Iteration 23, loss = 1.98180207\n",
      "Iteration 24, loss = 1.16841877\n",
      "Iteration 25, loss = 1.08411041\n",
      "Iteration 26, loss = 1.01981024\n",
      "Iteration 27, loss = 0.96739956\n",
      "Iteration 28, loss = 0.54027364\n",
      "Iteration 29, loss = 0.55832006\n",
      "Iteration 30, loss = 0.52439234\n",
      "Iteration 31, loss = 0.77349243\n",
      "Iteration 32, loss = 0.54359213\n",
      "Iteration 33, loss = 0.83046987\n",
      "Iteration 34, loss = 0.48311736\n",
      "Iteration 35, loss = 0.59873205\n",
      "Iteration 36, loss = 0.26653385\n",
      "Iteration 37, loss = 0.26679537\n",
      "Iteration 38, loss = 0.28788755\n",
      "Iteration 39, loss = 0.20715375\n",
      "Iteration 40, loss = 0.15406018\n",
      "Iteration 41, loss = 0.14556058\n",
      "Iteration 42, loss = 0.13645836\n",
      "Iteration 43, loss = 0.12632725\n",
      "Iteration 44, loss = 0.12283543\n",
      "Iteration 45, loss = 0.10650110\n",
      "Iteration 46, loss = 0.09727567\n",
      "Iteration 47, loss = 0.09110037\n",
      "Iteration 48, loss = 0.08774671\n",
      "Iteration 49, loss = 0.09676754\n",
      "Iteration 50, loss = 0.08519642\n",
      "Iteration 51, loss = 0.07827362\n",
      "Iteration 52, loss = 0.06453184\n",
      "Iteration 53, loss = 0.08525586\n",
      "Iteration 54, loss = 0.07134191\n",
      "Iteration 55, loss = 0.05720756\n",
      "Iteration 56, loss = 0.06227767\n",
      "Iteration 57, loss = 0.07208653\n",
      "Iteration 58, loss = 0.06508217\n",
      "Iteration 59, loss = 0.07122991\n",
      "Iteration 60, loss = 0.05635972\n",
      "Iteration 61, loss = 0.06927048\n",
      "Iteration 62, loss = 0.07145278\n",
      "Iteration 63, loss = 0.07909447\n",
      "Iteration 64, loss = 0.08241997\n",
      "Iteration 65, loss = 0.08904930\n",
      "Iteration 66, loss = 0.06155307\n",
      "Iteration 67, loss = 0.05893686\n",
      "Iteration 68, loss = 0.05892069\n",
      "Iteration 69, loss = 0.05832576\n",
      "Iteration 70, loss = 0.13912633\n",
      "Iteration 71, loss = 0.39930689\n",
      "Training loss did not improve more than tol=0.000100 for 10 consecutive epochs. Stopping.\n",
      "MLPClassifier(hidden_layer_sizes=200, verbose=True)\n",
      "              precision    recall  f1-score   support\n",
      "\n",
      "           0       0.88      0.89      0.89       242\n",
      "           1       0.27      0.26      0.27        38\n",
      "\n",
      "    accuracy                           0.80       280\n",
      "   macro avg       0.58      0.58      0.58       280\n",
      "weighted avg       0.80      0.80      0.80       280\n",
      "\n"
     ]
    }
   ],
   "source": [
    "model = neural_network.MLPClassifier(hidden_layer_sizes=(200), verbose=True)\n",
    "train_sklearn(model, X, y)"
   ]
  }
 ],
 "metadata": {
  "kernelspec": {
   "display_name": "Python 3 (ipykernel)",
   "language": "python",
   "name": "python3"
  },
  "language_info": {
   "codemirror_mode": {
    "name": "ipython",
    "version": 3
   },
   "file_extension": ".py",
   "mimetype": "text/x-python",
   "name": "python",
   "nbconvert_exporter": "python",
   "pygments_lexer": "ipython3",
   "version": "3.9.12"
  }
 },
 "nbformat": 4,
 "nbformat_minor": 5
}
