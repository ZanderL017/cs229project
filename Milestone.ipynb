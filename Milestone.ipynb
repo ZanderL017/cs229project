{
 "cells": [
  {
   "cell_type": "code",
   "execution_count": 1,
   "id": "a0a628ec",
   "metadata": {},
   "outputs": [],
   "source": [
    "import pandas as pd\n",
    "import torch\n",
    "import numpy as np"
   ]
  },
  {
   "cell_type": "code",
   "execution_count": 2,
   "id": "2a0a5ba1",
   "metadata": {},
   "outputs": [],
   "source": [
    "import sklearn"
   ]
  },
  {
   "cell_type": "code",
   "execution_count": 3,
   "id": "b7455ee8",
   "metadata": {},
   "outputs": [],
   "source": [
    "df1 = pd.read_csv(\"data/GSE8167CopyConvertedProtein.csv\")"
   ]
  },
  {
   "cell_type": "code",
   "execution_count": 4,
   "id": "7ecb829a",
   "metadata": {},
   "outputs": [],
   "source": [
    "df2 = pd.read_csv(\"data/READCopyProtein50.csv\")"
   ]
  },
  {
   "cell_type": "code",
   "execution_count": 5,
   "id": "3c2d4c2b",
   "metadata": {},
   "outputs": [],
   "source": [
    "df3 = pd.read_csv(\"data/COADCopyProtein50.csv\")"
   ]
  },
  {
   "cell_type": "code",
   "execution_count": 6,
   "id": "9468ce4c",
   "metadata": {},
   "outputs": [],
   "source": [
    "df4 = pd.read_csv(\"data/GSE62254CopyConvertedProtein.csv\")"
   ]
  },
  {
   "cell_type": "code",
   "execution_count": 7,
   "id": "c30ccbc7",
   "metadata": {},
   "outputs": [
    {
     "data": {
      "text/plain": [
       "(32, 14813)"
      ]
     },
     "execution_count": 7,
     "metadata": {},
     "output_type": "execute_result"
    }
   ],
   "source": [
    "df1.shape"
   ]
  },
  {
   "cell_type": "code",
   "execution_count": 8,
   "id": "1129eaf2",
   "metadata": {},
   "outputs": [
    {
     "data": {
      "text/plain": [
       "(159, 16300)"
      ]
     },
     "execution_count": 8,
     "metadata": {},
     "output_type": "execute_result"
    }
   ],
   "source": [
    "df2.shape"
   ]
  },
  {
   "cell_type": "code",
   "execution_count": 9,
   "id": "c6fda42b",
   "metadata": {},
   "outputs": [
    {
     "data": {
      "text/plain": [
       "(474, 16295)"
      ]
     },
     "execution_count": 9,
     "metadata": {},
     "output_type": "execute_result"
    }
   ],
   "source": [
    "df3.shape"
   ]
  },
  {
   "cell_type": "code",
   "execution_count": 10,
   "id": "591a00ef",
   "metadata": {},
   "outputs": [
    {
     "data": {
      "text/plain": [
       "(300, 15044)"
      ]
     },
     "execution_count": 10,
     "metadata": {},
     "output_type": "execute_result"
    }
   ],
   "source": [
    "df4.shape"
   ]
  },
  {
   "cell_type": "code",
   "execution_count": 11,
   "id": "6d9f5abd",
   "metadata": {},
   "outputs": [],
   "source": [
    "df = pd.concat((df2, df3, df4))"
   ]
  },
  {
   "cell_type": "code",
   "execution_count": 12,
   "id": "b21e17bb",
   "metadata": {},
   "outputs": [],
   "source": [
    "df.dropna(axis=1, inplace=True)\n",
    "df.reset_index(drop=True, inplace=True)\n",
    "df.drop(\"Unnamed: 0\", axis=1, inplace=True)"
   ]
  },
  {
   "cell_type": "code",
   "execution_count": 13,
   "id": "38d0dd90",
   "metadata": {},
   "outputs": [
    {
     "data": {
      "text/plain": [
       "count    933.000000\n",
       "mean       4.586478\n",
       "std        2.899580\n",
       "min        0.140287\n",
       "25%        2.307741\n",
       "50%        4.469627\n",
       "75%        6.456757\n",
       "max       31.041472\n",
       "Name: A1BG, dtype: float64"
      ]
     },
     "execution_count": 13,
     "metadata": {},
     "output_type": "execute_result"
    }
   ],
   "source": [
    "df[\"A1BG\"].describe()"
   ]
  },
  {
   "cell_type": "code",
   "execution_count": 14,
   "id": "746fb846",
   "metadata": {},
   "outputs": [
    {
     "data": {
      "text/plain": [
       "count    933.000000\n",
       "mean      54.322400\n",
       "std       57.470899\n",
       "min        3.071780\n",
       "25%       13.073987\n",
       "50%       38.500170\n",
       "75%       72.647514\n",
       "max      597.710262\n",
       "Name: A2M, dtype: float64"
      ]
     },
     "execution_count": 14,
     "metadata": {},
     "output_type": "execute_result"
    }
   ],
   "source": [
    "df[\"A2M\"].describe()"
   ]
  },
  {
   "cell_type": "code",
   "execution_count": 15,
   "id": "a377a274",
   "metadata": {
    "scrolled": true
   },
   "outputs": [
    {
     "data": {
      "text/plain": [
       "0.13933547695605572"
      ]
     },
     "execution_count": 15,
     "metadata": {},
     "output_type": "execute_result"
    }
   ],
   "source": [
    "df[\"COVAR_M\"].mean()"
   ]
  },
  {
   "cell_type": "code",
   "execution_count": 16,
   "id": "e34259df",
   "metadata": {},
   "outputs": [
    {
     "data": {
      "text/plain": [
       "0.5562700964630225"
      ]
     },
     "execution_count": 16,
     "metadata": {},
     "output_type": "execute_result"
    }
   ],
   "source": [
    "df[\"COVAR_N_status\"].mean()"
   ]
  },
  {
   "cell_type": "code",
   "execution_count": 17,
   "id": "4ac58b43",
   "metadata": {},
   "outputs": [
    {
     "data": {
      "text/html": [
       "<div>\n",
       "<style scoped>\n",
       "    .dataframe tbody tr th:only-of-type {\n",
       "        vertical-align: middle;\n",
       "    }\n",
       "\n",
       "    .dataframe tbody tr th {\n",
       "        vertical-align: top;\n",
       "    }\n",
       "\n",
       "    .dataframe thead th {\n",
       "        text-align: right;\n",
       "    }\n",
       "</style>\n",
       "<table border=\"1\" class=\"dataframe\">\n",
       "  <thead>\n",
       "    <tr style=\"text-align: right;\">\n",
       "      <th></th>\n",
       "      <th>A1BG</th>\n",
       "      <th>A1CF</th>\n",
       "      <th>A2M</th>\n",
       "      <th>A2ML1</th>\n",
       "      <th>A4GALT</th>\n",
       "      <th>AAAS</th>\n",
       "      <th>AACS</th>\n",
       "      <th>AADAC</th>\n",
       "      <th>AADAT</th>\n",
       "      <th>AAGAB</th>\n",
       "      <th>...</th>\n",
       "      <th>ZXDA</th>\n",
       "      <th>ZXDB</th>\n",
       "      <th>ZXDC</th>\n",
       "      <th>ZYG11A</th>\n",
       "      <th>ZYG11B</th>\n",
       "      <th>ZYX</th>\n",
       "      <th>ZZEF1</th>\n",
       "      <th>ZZZ3</th>\n",
       "      <th>COVAR_M</th>\n",
       "      <th>COVAR_N_status</th>\n",
       "    </tr>\n",
       "  </thead>\n",
       "  <tbody>\n",
       "    <tr>\n",
       "      <th>928</th>\n",
       "      <td>5.942137</td>\n",
       "      <td>5.913381</td>\n",
       "      <td>11.526161</td>\n",
       "      <td>1.059513</td>\n",
       "      <td>6.042246</td>\n",
       "      <td>4.317287</td>\n",
       "      <td>9.213195</td>\n",
       "      <td>6.098362</td>\n",
       "      <td>1.504458</td>\n",
       "      <td>9.437831</td>\n",
       "      <td>...</td>\n",
       "      <td>7.055993</td>\n",
       "      <td>5.895205</td>\n",
       "      <td>7.169982</td>\n",
       "      <td>2.402127</td>\n",
       "      <td>9.168747</td>\n",
       "      <td>8.420174</td>\n",
       "      <td>7.256559</td>\n",
       "      <td>10.036328</td>\n",
       "      <td>0</td>\n",
       "      <td>1</td>\n",
       "    </tr>\n",
       "    <tr>\n",
       "      <th>929</th>\n",
       "      <td>5.844904</td>\n",
       "      <td>8.183669</td>\n",
       "      <td>11.788911</td>\n",
       "      <td>3.674765</td>\n",
       "      <td>4.897835</td>\n",
       "      <td>3.196120</td>\n",
       "      <td>9.737289</td>\n",
       "      <td>11.572527</td>\n",
       "      <td>2.695465</td>\n",
       "      <td>9.539697</td>\n",
       "      <td>...</td>\n",
       "      <td>6.335578</td>\n",
       "      <td>5.833117</td>\n",
       "      <td>6.999113</td>\n",
       "      <td>1.889060</td>\n",
       "      <td>9.691995</td>\n",
       "      <td>8.153651</td>\n",
       "      <td>8.059813</td>\n",
       "      <td>10.423995</td>\n",
       "      <td>0</td>\n",
       "      <td>1</td>\n",
       "    </tr>\n",
       "    <tr>\n",
       "      <th>930</th>\n",
       "      <td>6.360383</td>\n",
       "      <td>8.787462</td>\n",
       "      <td>12.430695</td>\n",
       "      <td>4.230503</td>\n",
       "      <td>5.095716</td>\n",
       "      <td>7.102401</td>\n",
       "      <td>10.544474</td>\n",
       "      <td>12.999330</td>\n",
       "      <td>6.826320</td>\n",
       "      <td>9.221026</td>\n",
       "      <td>...</td>\n",
       "      <td>8.361142</td>\n",
       "      <td>7.033119</td>\n",
       "      <td>7.241024</td>\n",
       "      <td>1.885810</td>\n",
       "      <td>9.899455</td>\n",
       "      <td>7.812305</td>\n",
       "      <td>7.561632</td>\n",
       "      <td>9.876441</td>\n",
       "      <td>0</td>\n",
       "      <td>1</td>\n",
       "    </tr>\n",
       "    <tr>\n",
       "      <th>931</th>\n",
       "      <td>6.927334</td>\n",
       "      <td>8.870796</td>\n",
       "      <td>12.007038</td>\n",
       "      <td>4.859395</td>\n",
       "      <td>5.402764</td>\n",
       "      <td>5.359976</td>\n",
       "      <td>10.522492</td>\n",
       "      <td>11.925963</td>\n",
       "      <td>4.742456</td>\n",
       "      <td>9.475964</td>\n",
       "      <td>...</td>\n",
       "      <td>6.795128</td>\n",
       "      <td>5.359431</td>\n",
       "      <td>7.232154</td>\n",
       "      <td>4.620380</td>\n",
       "      <td>8.559547</td>\n",
       "      <td>8.124043</td>\n",
       "      <td>8.455832</td>\n",
       "      <td>9.872788</td>\n",
       "      <td>0</td>\n",
       "      <td>1</td>\n",
       "    </tr>\n",
       "    <tr>\n",
       "      <th>932</th>\n",
       "      <td>6.138049</td>\n",
       "      <td>5.823399</td>\n",
       "      <td>13.498144</td>\n",
       "      <td>4.655757</td>\n",
       "      <td>6.422433</td>\n",
       "      <td>5.188557</td>\n",
       "      <td>10.229970</td>\n",
       "      <td>10.937654</td>\n",
       "      <td>6.161874</td>\n",
       "      <td>9.073476</td>\n",
       "      <td>...</td>\n",
       "      <td>7.435119</td>\n",
       "      <td>6.150105</td>\n",
       "      <td>7.089935</td>\n",
       "      <td>2.172361</td>\n",
       "      <td>9.024952</td>\n",
       "      <td>7.750568</td>\n",
       "      <td>8.408776</td>\n",
       "      <td>9.876825</td>\n",
       "      <td>1</td>\n",
       "      <td>1</td>\n",
       "    </tr>\n",
       "  </tbody>\n",
       "</table>\n",
       "<p>5 rows × 14138 columns</p>\n",
       "</div>"
      ],
      "text/plain": [
       "         A1BG      A1CF        A2M     A2ML1    A4GALT      AAAS       AACS  \\\n",
       "928  5.942137  5.913381  11.526161  1.059513  6.042246  4.317287   9.213195   \n",
       "929  5.844904  8.183669  11.788911  3.674765  4.897835  3.196120   9.737289   \n",
       "930  6.360383  8.787462  12.430695  4.230503  5.095716  7.102401  10.544474   \n",
       "931  6.927334  8.870796  12.007038  4.859395  5.402764  5.359976  10.522492   \n",
       "932  6.138049  5.823399  13.498144  4.655757  6.422433  5.188557  10.229970   \n",
       "\n",
       "         AADAC     AADAT     AAGAB  ...      ZXDA      ZXDB      ZXDC  \\\n",
       "928   6.098362  1.504458  9.437831  ...  7.055993  5.895205  7.169982   \n",
       "929  11.572527  2.695465  9.539697  ...  6.335578  5.833117  6.999113   \n",
       "930  12.999330  6.826320  9.221026  ...  8.361142  7.033119  7.241024   \n",
       "931  11.925963  4.742456  9.475964  ...  6.795128  5.359431  7.232154   \n",
       "932  10.937654  6.161874  9.073476  ...  7.435119  6.150105  7.089935   \n",
       "\n",
       "       ZYG11A    ZYG11B       ZYX     ZZEF1       ZZZ3  COVAR_M  \\\n",
       "928  2.402127  9.168747  8.420174  7.256559  10.036328        0   \n",
       "929  1.889060  9.691995  8.153651  8.059813  10.423995        0   \n",
       "930  1.885810  9.899455  7.812305  7.561632   9.876441        0   \n",
       "931  4.620380  8.559547  8.124043  8.455832   9.872788        0   \n",
       "932  2.172361  9.024952  7.750568  8.408776   9.876825        1   \n",
       "\n",
       "     COVAR_N_status  \n",
       "928               1  \n",
       "929               1  \n",
       "930               1  \n",
       "931               1  \n",
       "932               1  \n",
       "\n",
       "[5 rows x 14138 columns]"
      ]
     },
     "execution_count": 17,
     "metadata": {},
     "output_type": "execute_result"
    }
   ],
   "source": [
    "df.tail()"
   ]
  },
  {
   "cell_type": "code",
   "execution_count": 18,
   "id": "9325e292",
   "metadata": {
    "scrolled": true
   },
   "outputs": [],
   "source": [
    "X = df.drop([\"COVAR_N_status\", \"COVAR_M\"], axis=1)\n",
    "y = df[\"COVAR_N_status\"]"
   ]
  },
  {
   "cell_type": "code",
   "execution_count": 19,
   "id": "c8724137",
   "metadata": {},
   "outputs": [],
   "source": [
    "from sklearn import model_selection\n",
    "from sklearn import linear_model\n",
    "from sklearn import ensemble\n",
    "from sklearn import neural_network\n",
    "from sklearn import decomposition\n",
    "from sklearn.metrics import classification_report"
   ]
  },
  {
   "cell_type": "code",
   "execution_count": 20,
   "id": "2f5f0f0c",
   "metadata": {},
   "outputs": [],
   "source": [
    "def train_sklearn(model, X, y):\n",
    "    X_train, X_test, y_train, y_test = model_selection.train_test_split(X, y, test_size=0.3, random_state=42)\n",
    "    model.fit(X_train, y_train)\n",
    "    preds = np.round(model.predict(X_test))\n",
    "    accuracy = (y_test == preds).mean()\n",
    "    print(model)\n",
    "    print(classification_report(y_test, preds))"
   ]
  },
  {
   "cell_type": "code",
   "execution_count": 21,
   "id": "460dab5e",
   "metadata": {},
   "outputs": [
    {
     "name": "stdout",
     "output_type": "stream",
     "text": [
      "LogisticRegression()\n",
      "              precision    recall  f1-score   support\n",
      "\n",
      "           0       0.63      0.57      0.60       127\n",
      "           1       0.67      0.72      0.69       153\n",
      "\n",
      "    accuracy                           0.65       280\n",
      "   macro avg       0.65      0.64      0.64       280\n",
      "weighted avg       0.65      0.65      0.65       280\n",
      "\n"
     ]
    },
    {
     "name": "stderr",
     "output_type": "stream",
     "text": [
      "/Users/ZanderL/opt/anaconda3/envs/cs229project/lib/python3.9/site-packages/sklearn/linear_model/_logistic.py:814: ConvergenceWarning: lbfgs failed to converge (status=1):\n",
      "STOP: TOTAL NO. of ITERATIONS REACHED LIMIT.\n",
      "\n",
      "Increase the number of iterations (max_iter) or scale the data as shown in:\n",
      "    https://scikit-learn.org/stable/modules/preprocessing.html\n",
      "Please also refer to the documentation for alternative solver options:\n",
      "    https://scikit-learn.org/stable/modules/linear_model.html#logistic-regression\n",
      "  n_iter_i = _check_optimize_result(\n"
     ]
    }
   ],
   "source": [
    "model = linear_model.LogisticRegression()\n",
    "train_sklearn(model, X, y)"
   ]
  },
  {
   "cell_type": "code",
   "execution_count": 22,
   "id": "3db68665",
   "metadata": {},
   "outputs": [
    {
     "name": "stdout",
     "output_type": "stream",
     "text": [
      "RandomForestClassifier()\n",
      "              precision    recall  f1-score   support\n",
      "\n",
      "           0       0.64      0.76      0.70       127\n",
      "           1       0.77      0.64      0.70       153\n",
      "\n",
      "    accuracy                           0.70       280\n",
      "   macro avg       0.70      0.70      0.70       280\n",
      "weighted avg       0.71      0.70      0.70       280\n",
      "\n"
     ]
    }
   ],
   "source": [
    "model = ensemble.RandomForestClassifier()\n",
    "train_sklearn(model, X, y)"
   ]
  },
  {
   "cell_type": "code",
   "execution_count": 23,
   "id": "52e69d20",
   "metadata": {},
   "outputs": [
    {
     "name": "stdout",
     "output_type": "stream",
     "text": [
      "Iteration 1, loss = 17.32939941\n",
      "Iteration 2, loss = 14.26730337\n",
      "Iteration 3, loss = 15.00960144\n",
      "Iteration 4, loss = 10.75621779\n",
      "Iteration 5, loss = 10.14213926\n",
      "Iteration 6, loss = 9.53080034\n",
      "Iteration 7, loss = 0.91976166\n",
      "Iteration 8, loss = 0.70090619\n",
      "Iteration 9, loss = 0.69133634\n",
      "Iteration 10, loss = 0.69027099\n",
      "Iteration 11, loss = 0.68936037\n",
      "Iteration 12, loss = 0.68790683\n",
      "Iteration 13, loss = 0.68414715\n",
      "Iteration 14, loss = 0.68175730\n",
      "Iteration 15, loss = 0.67961679\n",
      "Iteration 16, loss = 0.67929276\n",
      "Iteration 17, loss = 0.67914577\n",
      "Iteration 18, loss = 0.67906770\n",
      "Iteration 19, loss = 0.67891368\n",
      "Iteration 20, loss = 0.67833951\n",
      "Iteration 21, loss = 0.67727920\n",
      "Iteration 22, loss = 0.67672466\n",
      "Iteration 23, loss = 0.67614834\n",
      "Iteration 24, loss = 0.67573230\n",
      "Iteration 25, loss = 0.67536078\n",
      "Iteration 26, loss = 0.67463036\n",
      "Iteration 27, loss = 0.67337071\n",
      "Iteration 28, loss = 0.67161676\n",
      "Iteration 29, loss = 0.67170315\n",
      "Iteration 30, loss = 0.67169719\n",
      "Iteration 31, loss = 0.67149110\n",
      "Iteration 32, loss = 0.67092365\n",
      "Iteration 33, loss = 0.67071250\n",
      "Iteration 34, loss = 0.67046012\n",
      "Iteration 35, loss = 0.67038282\n",
      "Iteration 36, loss = 0.67023973\n",
      "Iteration 37, loss = 0.67005088\n",
      "Iteration 38, loss = 0.66980977\n",
      "Iteration 39, loss = 0.66966959\n",
      "Iteration 40, loss = 0.66940186\n",
      "Iteration 41, loss = 0.66903292\n",
      "Iteration 42, loss = 0.66873509\n",
      "Iteration 43, loss = 0.66843914\n",
      "Iteration 44, loss = 0.66808399\n",
      "Iteration 45, loss = 0.66774362\n",
      "Iteration 46, loss = 0.66763346\n",
      "Iteration 47, loss = 0.66741424\n",
      "Iteration 48, loss = 0.66709211\n",
      "Iteration 49, loss = 0.66689609\n",
      "Iteration 50, loss = 0.66668849\n",
      "Iteration 51, loss = 0.66645481\n",
      "Iteration 52, loss = 0.66617850\n",
      "Iteration 53, loss = 0.66603098\n",
      "Iteration 54, loss = 0.66576502\n",
      "Iteration 55, loss = 0.66576933\n",
      "Iteration 56, loss = 0.66571099\n",
      "Iteration 57, loss = 0.66536897\n",
      "Iteration 58, loss = 0.66491019\n",
      "Iteration 59, loss = 0.66461309\n",
      "Iteration 60, loss = 1.05037586\n",
      "Iteration 61, loss = 0.66503521\n",
      "Iteration 62, loss = 0.66415918\n",
      "Iteration 63, loss = 0.66388404\n",
      "Iteration 64, loss = 0.66374749\n",
      "Iteration 65, loss = 0.66348768\n",
      "Iteration 66, loss = 0.66309827\n",
      "Iteration 67, loss = 0.66267972\n",
      "Iteration 68, loss = 0.66207539\n",
      "Iteration 69, loss = 0.66192847\n",
      "Iteration 70, loss = 0.66144462\n",
      "Iteration 71, loss = 0.66080033\n",
      "Iteration 72, loss = 0.66002888\n",
      "Iteration 73, loss = 0.66030743\n",
      "Iteration 74, loss = 0.66049810\n",
      "Iteration 75, loss = 0.65930359\n",
      "Iteration 76, loss = 0.65801064\n",
      "Iteration 77, loss = 0.65647673\n",
      "Iteration 78, loss = 0.65733758\n",
      "Iteration 79, loss = 0.65474414\n",
      "Iteration 80, loss = 0.65455268\n",
      "Iteration 81, loss = 0.65489432\n",
      "Iteration 82, loss = 0.65195103\n",
      "Iteration 83, loss = 0.65086072\n",
      "Iteration 84, loss = 0.65156179\n",
      "Iteration 85, loss = 0.64840324\n",
      "Iteration 86, loss = 0.65059314\n",
      "Iteration 87, loss = 0.64856426\n",
      "Iteration 88, loss = 0.64582364\n",
      "Iteration 89, loss = 0.64566483\n",
      "Iteration 90, loss = 0.64539084\n",
      "Iteration 91, loss = 0.64385350\n",
      "Iteration 92, loss = 0.64305503\n",
      "Iteration 93, loss = 0.64195212\n",
      "Iteration 94, loss = 0.64094413\n",
      "Iteration 95, loss = 0.63996513\n",
      "Iteration 96, loss = 0.63823340\n",
      "Iteration 97, loss = 0.63708802\n",
      "Iteration 98, loss = 0.63599380\n",
      "Iteration 99, loss = 0.63509991\n",
      "Iteration 100, loss = 0.63375528\n",
      "Iteration 101, loss = 0.63187536\n",
      "Iteration 102, loss = 0.63127264\n",
      "Iteration 103, loss = 0.62906457\n",
      "Iteration 104, loss = 0.62992500\n",
      "Iteration 105, loss = 0.63079393\n",
      "Iteration 106, loss = 0.63233385\n",
      "Iteration 107, loss = 0.62480983\n",
      "Iteration 108, loss = 0.62311376\n",
      "Iteration 109, loss = 0.62183708\n",
      "Iteration 110, loss = 0.61471972\n",
      "Iteration 111, loss = 0.61752137\n",
      "Iteration 112, loss = 0.61280416\n",
      "Iteration 113, loss = 0.60936775\n",
      "Iteration 114, loss = 0.60989996\n",
      "Iteration 115, loss = 0.60601971\n",
      "Iteration 116, loss = 0.60523339\n",
      "Iteration 117, loss = 0.61207971\n",
      "Iteration 118, loss = 0.61675162\n",
      "Iteration 119, loss = 0.62025918\n",
      "Iteration 120, loss = 0.60180819\n",
      "Iteration 121, loss = 0.60944501\n",
      "Iteration 122, loss = 0.60851311\n",
      "Iteration 123, loss = 0.61904508\n",
      "Iteration 124, loss = 0.62579829\n",
      "Iteration 125, loss = 0.63795786\n",
      "Iteration 126, loss = 0.60434902\n",
      "Iteration 127, loss = 0.58891777\n",
      "Iteration 128, loss = 0.59907004\n",
      "Iteration 129, loss = 0.58315162\n",
      "Iteration 130, loss = 0.57873899\n",
      "Iteration 131, loss = 0.57473346\n",
      "Iteration 132, loss = 0.57373032\n",
      "Iteration 133, loss = 0.56871968\n",
      "Iteration 134, loss = 0.57798186\n",
      "Iteration 135, loss = 0.56211394\n",
      "Iteration 136, loss = 0.56183108\n",
      "Iteration 137, loss = 0.57908184\n",
      "Iteration 138, loss = 0.56067006\n",
      "Iteration 139, loss = 0.56589060\n",
      "Iteration 140, loss = 0.55690000\n",
      "Iteration 141, loss = 0.58939698\n",
      "Iteration 142, loss = 0.56333016\n",
      "Iteration 143, loss = 0.54923195\n",
      "Iteration 144, loss = 0.55791705\n",
      "Iteration 145, loss = 0.54318246\n",
      "Iteration 146, loss = 0.54788385\n",
      "Iteration 147, loss = 0.55977949\n",
      "Iteration 148, loss = 0.56138458\n",
      "Iteration 149, loss = 0.53644769\n",
      "Iteration 150, loss = 0.53040788\n",
      "Iteration 151, loss = 0.52058727\n",
      "Iteration 152, loss = 0.52843610\n",
      "Iteration 153, loss = 0.52716010\n",
      "Iteration 154, loss = 0.52130560\n",
      "Iteration 155, loss = 0.52407253\n",
      "Iteration 156, loss = 0.58057266\n",
      "Iteration 157, loss = 0.61473699\n",
      "Iteration 158, loss = 0.55298858\n",
      "Iteration 159, loss = 0.59896596\n",
      "Iteration 160, loss = 0.55873676\n",
      "Iteration 161, loss = 0.55845585\n",
      "Iteration 162, loss = 0.59866761\n",
      "Training loss did not improve more than tol=0.000100 for 10 consecutive epochs. Stopping.\n",
      "MLPClassifier(hidden_layer_sizes=200, verbose=True)\n",
      "              precision    recall  f1-score   support\n",
      "\n",
      "           0       0.74      0.33      0.46       127\n",
      "           1       0.62      0.90      0.73       153\n",
      "\n",
      "    accuracy                           0.64       280\n",
      "   macro avg       0.68      0.62      0.60       280\n",
      "weighted avg       0.67      0.64      0.61       280\n",
      "\n"
     ]
    }
   ],
   "source": [
    "model = neural_network.MLPClassifier(hidden_layer_sizes=(200), verbose=True)\n",
    "train_sklearn(model, X, y)"
   ]
  },
  {
   "cell_type": "code",
   "execution_count": 24,
   "id": "6da79a36",
   "metadata": {
    "scrolled": true
   },
   "outputs": [],
   "source": [
    "#model = ensemble.GradientBoostingClassifier(verbose=1)\n",
    "#train_sklearn(model, X, y)"
   ]
  },
  {
   "cell_type": "code",
   "execution_count": 25,
   "id": "d865f18e",
   "metadata": {},
   "outputs": [],
   "source": [
    "pca = decomposition.PCA(n_components=100)\n",
    "X_pca = pca.fit_transform(X)"
   ]
  },
  {
   "cell_type": "code",
   "execution_count": 26,
   "id": "d0318b9e",
   "metadata": {},
   "outputs": [
    {
     "name": "stdout",
     "output_type": "stream",
     "text": [
      "LogisticRegression()\n",
      "              precision    recall  f1-score   support\n",
      "\n",
      "           0       0.67      0.64      0.65       127\n",
      "           1       0.71      0.74      0.72       153\n",
      "\n",
      "    accuracy                           0.69       280\n",
      "   macro avg       0.69      0.69      0.69       280\n",
      "weighted avg       0.69      0.69      0.69       280\n",
      "\n"
     ]
    },
    {
     "name": "stderr",
     "output_type": "stream",
     "text": [
      "/Users/ZanderL/opt/anaconda3/envs/cs229project/lib/python3.9/site-packages/sklearn/linear_model/_logistic.py:814: ConvergenceWarning: lbfgs failed to converge (status=1):\n",
      "STOP: TOTAL NO. of ITERATIONS REACHED LIMIT.\n",
      "\n",
      "Increase the number of iterations (max_iter) or scale the data as shown in:\n",
      "    https://scikit-learn.org/stable/modules/preprocessing.html\n",
      "Please also refer to the documentation for alternative solver options:\n",
      "    https://scikit-learn.org/stable/modules/linear_model.html#logistic-regression\n",
      "  n_iter_i = _check_optimize_result(\n"
     ]
    }
   ],
   "source": [
    "model = linear_model.LogisticRegression()\n",
    "train_sklearn(model, X_pca, y)"
   ]
  },
  {
   "cell_type": "code",
   "execution_count": 27,
   "id": "2f772cf6",
   "metadata": {},
   "outputs": [
    {
     "name": "stdout",
     "output_type": "stream",
     "text": [
      "RandomForestClassifier()\n",
      "              precision    recall  f1-score   support\n",
      "\n",
      "           0       0.62      0.80      0.70       127\n",
      "           1       0.78      0.59      0.68       153\n",
      "\n",
      "    accuracy                           0.69       280\n",
      "   macro avg       0.70      0.70      0.69       280\n",
      "weighted avg       0.71      0.69      0.69       280\n",
      "\n"
     ]
    }
   ],
   "source": [
    "model = ensemble.RandomForestClassifier()\n",
    "train_sklearn(model, X_pca, y)"
   ]
  },
  {
   "cell_type": "code",
   "execution_count": 28,
   "id": "824e896f",
   "metadata": {},
   "outputs": [
    {
     "name": "stdout",
     "output_type": "stream",
     "text": [
      "      Iter       Train Loss   Remaining Time \n",
      "         1           1.3128            1.60s\n",
      "         2           1.2616            1.53s\n",
      "         3           1.2158            1.48s\n",
      "         4           1.1766            1.45s\n",
      "         5           1.1408            1.43s\n",
      "         6           1.1100            1.41s\n",
      "         7           1.0817            1.39s\n",
      "         8           1.0555            1.37s\n",
      "         9           1.0282            1.36s\n",
      "        10           1.0012            1.34s\n",
      "        20           0.8143            1.18s\n",
      "        30           0.6883            1.03s\n",
      "        40           0.6053            0.88s\n",
      "        50           0.5256            0.73s\n",
      "        60           0.4647            0.59s\n",
      "        70           0.4147            0.44s\n",
      "        80           0.3707            0.29s\n",
      "        90           0.3371            0.15s\n",
      "       100           0.3094            0.00s\n",
      "GradientBoostingClassifier(verbose=1)\n",
      "              precision    recall  f1-score   support\n",
      "\n",
      "           0       0.63      0.74      0.68       127\n",
      "           1       0.75      0.63      0.69       153\n",
      "\n",
      "    accuracy                           0.68       280\n",
      "   macro avg       0.69      0.69      0.68       280\n",
      "weighted avg       0.69      0.68      0.68       280\n",
      "\n"
     ]
    }
   ],
   "source": [
    "model = ensemble.GradientBoostingClassifier(verbose=1)\n",
    "train_sklearn(model, X_pca, y)"
   ]
  },
  {
   "cell_type": "code",
   "execution_count": 29,
   "id": "178a070a",
   "metadata": {},
   "outputs": [
    {
     "name": "stdout",
     "output_type": "stream",
     "text": [
      "Iteration 1, loss = 14.81734156\n",
      "Iteration 2, loss = 12.34034596\n",
      "Iteration 3, loss = 12.13064131\n",
      "Iteration 4, loss = 11.30344524\n",
      "Iteration 5, loss = 10.51000770\n",
      "Iteration 6, loss = 8.69202882\n",
      "Iteration 7, loss = 10.17940549\n",
      "Iteration 8, loss = 10.57396647\n",
      "Iteration 9, loss = 6.75244331\n",
      "Iteration 10, loss = 5.92839876\n",
      "Iteration 11, loss = 5.59140156\n",
      "Iteration 12, loss = 5.02698520\n",
      "Iteration 13, loss = 5.76349949\n",
      "Iteration 14, loss = 5.76407756\n",
      "Iteration 15, loss = 5.00502838\n",
      "Iteration 16, loss = 6.50114490\n",
      "Iteration 17, loss = 4.62703493\n",
      "Iteration 18, loss = 4.17594783\n",
      "Iteration 19, loss = 2.67174604\n",
      "Iteration 20, loss = 6.41843740\n",
      "Iteration 21, loss = 3.01223897\n",
      "Iteration 22, loss = 1.83018970\n",
      "Iteration 23, loss = 2.24088370\n",
      "Iteration 24, loss = 4.52508692\n",
      "Iteration 25, loss = 9.18473456\n",
      "Iteration 26, loss = 10.55962557\n",
      "Iteration 27, loss = 8.51703174\n",
      "Iteration 28, loss = 8.88297790\n",
      "Iteration 29, loss = 7.05232575\n",
      "Iteration 30, loss = 6.34001177\n",
      "Iteration 31, loss = 4.95064120\n",
      "Iteration 32, loss = 3.34738752\n",
      "Iteration 33, loss = 4.91201042\n",
      "Training loss did not improve more than tol=0.000100 for 10 consecutive epochs. Stopping.\n",
      "MLPClassifier(hidden_layer_sizes=200, verbose=True)\n",
      "              precision    recall  f1-score   support\n",
      "\n",
      "           0       0.78      0.24      0.37       127\n",
      "           1       0.60      0.94      0.73       153\n",
      "\n",
      "    accuracy                           0.62       280\n",
      "   macro avg       0.69      0.59      0.55       280\n",
      "weighted avg       0.68      0.62      0.57       280\n",
      "\n"
     ]
    }
   ],
   "source": [
    "model = neural_network.MLPClassifier(hidden_layer_sizes=(200), verbose=True)\n",
    "train_sklearn(model, X, y)"
   ]
  }
 ],
 "metadata": {
  "kernelspec": {
   "display_name": "Python 3 (ipykernel)",
   "language": "python",
   "name": "python3"
  },
  "language_info": {
   "codemirror_mode": {
    "name": "ipython",
    "version": 3
   },
   "file_extension": ".py",
   "mimetype": "text/x-python",
   "name": "python",
   "nbconvert_exporter": "python",
   "pygments_lexer": "ipython3",
   "version": "3.9.12"
  }
 },
 "nbformat": 4,
 "nbformat_minor": 5
}
